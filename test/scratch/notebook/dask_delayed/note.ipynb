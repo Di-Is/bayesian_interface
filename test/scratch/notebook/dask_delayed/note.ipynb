{
 "cells": [
  {
   "cell_type": "code",
   "execution_count": 35,
   "outputs": [],
   "source": [
    "import numpy as np\n",
    "\n",
    "import dask\n",
    "import dask.array as da\n",
    "from dask.delayed import Delayed,delayed"
   ],
   "metadata": {
    "collapsed": false,
    "pycharm": {
     "name": "#%%\n"
    }
   }
  },
  {
   "cell_type": "code",
   "execution_count": 38,
   "outputs": [],
   "source": [
    "import warnings\n",
    "\n",
    "warnings.simplefilter(\"ignore\")\n",
    "\n",
    "\n",
    "def next_pow_two(n):\n",
    "    \"\"\"Returns the next power of two greater than or equal to `n`\"\"\"\n",
    "    i = 1\n",
    "    while i < n:\n",
    "        i = i << 1\n",
    "    return i\n",
    "\n",
    "\n",
    "def calc_acf(array: np.ndarray, norm: bool = True):\n",
    "\n",
    "    n = next_pow_two(len(array))\n",
    "    f = np.fft.fft(array - np.mean(array), n=2 * n)\n",
    "    acf = np.fft.ifft(f * np.conjugate(f))[: len(array)].real\n",
    "    if norm:\n",
    "        acf /= acf[0]\n",
    "    return acf\n",
    "\n",
    "def auto_window(taus: np.ndarray, c: int):\n",
    "    m = np.arange(len(taus)) < c * taus\n",
    "    if np.any(m):\n",
    "        return np.argmin(m)\n",
    "    return len(taus) - 1\n",
    "\n",
    "\n",
    "def estimate_iat(acf: np.ndarray, c: int = 5) -> float:\n",
    "    iats = 2.0 * np.cumsum(acf) - 1.0\n",
    "    window = auto_window(iats, c)\n",
    "    iat_estimation = iats[window]\n",
    "    return iat_estimation\n"
   ],
   "metadata": {
    "collapsed": false,
    "pycharm": {
     "name": "#%%\n"
    }
   }
  },
  {
   "cell_type": "code",
   "execution_count": 229,
   "outputs": [],
   "source": [
    "class CalcMean:\n",
    "\n",
    "    def __init__(self, strategy):\n",
    "        self._strategy = strategy\n",
    "\n",
    "    def compute(self, array: np.ndarray | da.Array) -> np.ndarray | da.Array:\n",
    "\n",
    "        match array:\n",
    "            case np.ndarray():\n",
    "                result = np.apply_along_axis(self._strategy.compute, 0, array).mean()\n",
    "            case da.Array() | Delayed():\n",
    "                result = da.apply_along_axis(self._strategy.compute, 0, array).mean()\n",
    "            case _:\n",
    "                raise TypeError(f\"input type {type(array)} is invalid.\")\n",
    "\n",
    "        return result\n",
    "\n",
    "class FFT:\n",
    "\n",
    "    def compute(self, array: np.ndarray | da.Array) -> np.ndarray | da.Array:\n",
    "        match array:\n",
    "            case np.ndarray():\n",
    "                result = self._calc_iat(array)\n",
    "            case da.Array() | Delayed():\n",
    "                result = da.map_blocks(self._calc_iat, array)\n",
    "            case _:\n",
    "                raise TypeError(f\"input type {type(array)} is invalid.\")\n",
    "        return result\n",
    "\n",
    "    @staticmethod\n",
    "    def _calc_iat(array: np.ndarray) -> np.ndarray:\n",
    "        \"\"\"calculate integrated auto-correlation time\n",
    "        :param array: input array\n",
    "        :return: iat array\n",
    "        \"\"\"\n",
    "        acf = calc_acf(array)\n",
    "        result = estimate_iat(acf)\n",
    "        return result\n"
   ],
   "metadata": {
    "collapsed": false,
    "pycharm": {
     "name": "#%%\n"
    }
   }
  },
  {
   "cell_type": "code",
   "execution_count": 230,
   "outputs": [],
   "source": [
    "inst = CalcMean(FFT())"
   ],
   "metadata": {
    "collapsed": false,
    "pycharm": {
     "name": "#%%\n"
    }
   }
  },
  {
   "cell_type": "code",
   "execution_count": 231,
   "outputs": [],
   "source": [
    "arr = np.random.rand(1000, 10)\n",
    "arr = da.from_array(arr)"
   ],
   "metadata": {
    "collapsed": false,
    "pycharm": {
     "name": "#%%\n"
    }
   }
  },
  {
   "cell_type": "code",
   "execution_count": 232,
   "outputs": [
    {
     "data": {
      "text/plain": "1.0123797299091513"
     },
     "execution_count": 232,
     "metadata": {},
     "output_type": "execute_result"
    }
   ],
   "source": [
    "res = inst.compute(arr)\n",
    "res.compute()"
   ],
   "metadata": {
    "collapsed": false,
    "pycharm": {
     "name": "#%%\n"
    }
   }
  },
  {
   "cell_type": "code",
   "execution_count": 233,
   "outputs": [
    {
     "data": {
      "text/plain": "dask.array<mean_agg-aggregate, shape=(), dtype=float64, chunksize=(), chunktype=numpy.ndarray>",
      "text/html": "<table>\n    <tr>\n        <td>\n            <table>\n                <thead>\n                    <tr>\n                        <td> </td>\n                        <th> Array </th>\n                        <th> Chunk </th>\n                    </tr>\n                </thead>\n                <tbody>\n                    \n                    <tr>\n                        <th> Bytes </th>\n                        <td> 8 B </td>\n                        <td> 8.0 B </td>\n                    </tr>\n                    \n                    <tr>\n                        <th> Shape </th>\n                        <td> () </td>\n                        <td> () </td>\n                    </tr>\n                    <tr>\n                        <th> Count </th>\n                        <td> 4 Tasks </td>\n                        <td> 1 Chunks </td>\n                    </tr>\n                    <tr>\n                    <th> Type </th>\n                    <td> float64 </td>\n                    <td> numpy.ndarray </td>\n                    </tr>\n                </tbody>\n            </table>\n        </td>\n        <td>\n        \n        </td>\n    </tr>\n</table>"
     },
     "execution_count": 233,
     "metadata": {},
     "output_type": "execute_result"
    }
   ],
   "source": [
    "res\n",
    "#res.visualize()"
   ],
   "metadata": {
    "collapsed": false,
    "pycharm": {
     "name": "#%%\n"
    }
   }
  },
  {
   "cell_type": "code",
   "execution_count": 234,
   "outputs": [
    {
     "data": {
      "image/png": "[encoded data removed]",
      "text/plain": "<IPython.core.display.Image object>"
     },
     "execution_count": 234,
     "metadata": {},
     "output_type": "execute_result"
    }
   ],
   "source": [
    "res.visualize()"
   ],
   "metadata": {
    "collapsed": false,
    "pycharm": {
     "name": "#%%\n"
    }
   }
  },
  {
   "cell_type": "code",
   "execution_count": 236,
   "outputs": [
    {
     "data": {
      "text/plain": "0.9478143185614553"
     },
     "execution_count": 236,
     "metadata": {},
     "output_type": "execute_result"
    }
   ],
   "source": [
    "inst = CalcMean(FFT())\n",
    "arr = np.random.rand(1000, 10)\n",
    "res = inst.compute(arr)\n",
    "res"
   ],
   "metadata": {
    "collapsed": false,
    "pycharm": {
     "name": "#%%\n"
    }
   }
  },
  {
   "cell_type": "code",
   "execution_count": 237,
   "outputs": [
    {
     "name": "stdout",
     "output_type": "stream",
     "text": [
      "1.2773222370859116\n"
     ]
    }
   ],
   "source": [
    "arr = np.random.rand(1000)\n",
    "res = FFT().compute(arr)\n",
    "print(res)"
   ],
   "metadata": {
    "collapsed": false,
    "pycharm": {
     "name": "#%%\n"
    }
   }
  },
  {
   "cell_type": "code",
   "execution_count": 238,
   "outputs": [
    {
     "data": {
      "text/plain": "1.0905966684792512"
     },
     "execution_count": 238,
     "metadata": {},
     "output_type": "execute_result"
    }
   ],
   "source": [
    "arr = da.from_array(np.random.rand(1000))\n",
    "res = FFT().compute(arr)\n",
    "res.compute()"
   ],
   "metadata": {
    "collapsed": false,
    "pycharm": {
     "name": "#%%\n"
    }
   }
  },
  {
   "cell_type": "code",
   "execution_count": 239,
   "outputs": [
    {
     "data": {
      "text/plain": "dask.array<_calc_iat, shape=(1000,), dtype=float64, chunksize=(1000,), chunktype=numpy.ndarray>",
      "text/html": "<table>\n    <tr>\n        <td>\n            <table>\n                <thead>\n                    <tr>\n                        <td> </td>\n                        <th> Array </th>\n                        <th> Chunk </th>\n                    </tr>\n                </thead>\n                <tbody>\n                    \n                    <tr>\n                        <th> Bytes </th>\n                        <td> 7.81 kiB </td>\n                        <td> 7.81 kiB </td>\n                    </tr>\n                    \n                    <tr>\n                        <th> Shape </th>\n                        <td> (1000,) </td>\n                        <td> (1000,) </td>\n                    </tr>\n                    <tr>\n                        <th> Count </th>\n                        <td> 2 Tasks </td>\n                        <td> 1 Chunks </td>\n                    </tr>\n                    <tr>\n                    <th> Type </th>\n                    <td> float64 </td>\n                    <td> numpy.ndarray </td>\n                    </tr>\n                </tbody>\n            </table>\n        </td>\n        <td>\n        <svg width=\"170\" height=\"75\" style=\"stroke:rgb(0,0,0);stroke-width:1\" >\n\n  <!-- Horizontal lines -->\n  <line x1=\"0\" y1=\"0\" x2=\"120\" y2=\"0\" style=\"stroke-width:2\" />\n  <line x1=\"0\" y1=\"25\" x2=\"120\" y2=\"25\" style=\"stroke-width:2\" />\n\n  <!-- Vertical lines -->\n  <line x1=\"0\" y1=\"0\" x2=\"0\" y2=\"25\" style=\"stroke-width:2\" />\n  <line x1=\"120\" y1=\"0\" x2=\"120\" y2=\"25\" style=\"stroke-width:2\" />\n\n  <!-- Colored Rectangle -->\n  <polygon points=\"0.0,0.0 120.0,0.0 120.0,25.412616514582485 0.0,25.412616514582485\" style=\"fill:#ECB172A0;stroke-width:0\"/>\n\n  <!-- Text -->\n  <text x=\"60.000000\" y=\"45.412617\" font-size=\"1.0rem\" font-weight=\"100\" text-anchor=\"middle\" >1000</text>\n  <text x=\"140.000000\" y=\"12.706308\" font-size=\"1.0rem\" font-weight=\"100\" text-anchor=\"middle\" transform=\"rotate(0,140.000000,12.706308)\">1</text>\n</svg>\n        </td>\n    </tr>\n</table>"
     },
     "execution_count": 239,
     "metadata": {},
     "output_type": "execute_result"
    }
   ],
   "source": [
    "res"
   ],
   "metadata": {
    "collapsed": false,
    "pycharm": {
     "name": "#%%\n"
    }
   }
  },
  {
   "cell_type": "code",
   "execution_count": 240,
   "outputs": [
    {
     "data": {
      "image/png": "[encoded data removed]",
      "text/plain": "<IPython.core.display.Image object>"
     },
     "execution_count": 240,
     "metadata": {},
     "output_type": "execute_result"
    }
   ],
   "source": [
    "res.visualize()"
   ],
   "metadata": {
    "collapsed": false,
    "pycharm": {
     "name": "#%%\n"
    }
   }
  },
  {
   "cell_type": "code",
   "execution_count": 241,
   "outputs": [
    {
     "data": {
      "text/plain": "<module 'dask' from '/Users/dai/miniforge3/envs/bayesian_interface/lib/python3.10/site-packages/dask/__init__.py'>"
     },
     "execution_count": 241,
     "metadata": {},
     "output_type": "execute_result"
    }
   ],
   "source": [],
   "metadata": {
    "collapsed": false,
    "pycharm": {
     "name": "#%%\n"
    }
   }
  },
  {
   "cell_type": "code",
   "execution_count": 255,
   "outputs": [
    {
     "data": {
      "text/plain": "(1, 10)"
     },
     "execution_count": 255,
     "metadata": {},
     "output_type": "execute_result"
    }
   ],
   "source": [
    "res = da.zeros(10,)[None]#.mean()\n",
    "res.compute().shape"
   ],
   "metadata": {
    "collapsed": false,
    "pycharm": {
     "name": "#%%\n"
    }
   }
  },
  {
   "cell_type": "code",
   "execution_count": 260,
   "outputs": [
    {
     "data": {
      "text/plain": "2"
     },
     "execution_count": 260,
     "metadata": {},
     "output_type": "execute_result"
    }
   ],
   "source": [
    "sum([True, True])"
   ],
   "metadata": {
    "collapsed": false,
    "pycharm": {
     "name": "#%%\n"
    }
   }
  },
  {
   "cell_type": "code",
   "execution_count": null,
   "outputs": [],
   "source": [],
   "metadata": {
    "collapsed": false,
    "pycharm": {
     "name": "#%%\n"
    }
   }
  }
 ],
 "metadata": {
  "kernelspec": {
   "display_name": "Python 3",
   "language": "python",
   "name": "python3"
  },
  "language_info": {
   "codemirror_mode": {
    "name": "ipython",
    "version": 2
   },
   "file_extension": ".py",
   "mimetype": "text/x-python",
   "name": "python",
   "nbconvert_exporter": "python",
   "pygments_lexer": "ipython2",
   "version": "2.7.6"
  }
 },
 "nbformat": 4,
 "nbformat_minor": 0
}